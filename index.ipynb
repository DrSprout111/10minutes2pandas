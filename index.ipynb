{
 "cells": [
  {
   "cell_type": "markdown",
   "metadata": {},
   "source": [
    "# [10 Minutes to pandas — pandas 0.23.3 documentation](https://pandas.pydata.org/pandas-docs/stable/10min.html)"
   ]
  },
  {
   "cell_type": "code",
   "execution_count": 1,
   "metadata": {},
   "outputs": [],
   "source": [
    "import pandas as pd"
   ]
  },
  {
   "cell_type": "code",
   "execution_count": 2,
   "metadata": {},
   "outputs": [],
   "source": [
    "import numpy as np"
   ]
  },
  {
   "cell_type": "code",
   "execution_count": 3,
   "metadata": {},
   "outputs": [],
   "source": [
    "import matplotlib.pyplot as plt"
   ]
  },
  {
   "cell_type": "markdown",
   "metadata": {},
   "source": [
    "# Object Creation\n",
    "# Viewing Data\n",
    "1조: 처음~22번 "
   ]
  },
  {
   "cell_type": "code",
   "execution_count": 3,
   "metadata": {},
   "outputs": [],
   "source": [
    "import pandas as pd"
   ]
  },
  {
   "cell_type": "code",
   "execution_count": 4,
   "metadata": {},
   "outputs": [],
   "source": [
    "import numpy as np"
   ]
  },
  {
   "cell_type": "code",
   "execution_count": 5,
   "metadata": {},
   "outputs": [],
   "source": [
    "import matplotlib.pyplot as plt"
   ]
  },
  {
   "cell_type": "markdown",
   "metadata": {},
   "source": [
    "# Selection\n",
    "## Getting\n",
    "## Selection by Label\n",
    "## Selection by Position\n",
    "## Boolean Indexing\n",
    "## Setting\n",
    "2조: 23~54번 "
   ]
  },
  {
   "cell_type": "code",
   "execution_count": null,
   "metadata": {
    "collapsed": true
   },
   "outputs": [],
   "source": []
  },
  {
   "cell_type": "markdown",
   "metadata": {},
   "source": [
    "# Missing Data\n",
    "# Operations\n",
    "## Stats\n",
    "## Apply\n",
    "## Histogramming\n",
    "## String Methods\n",
    "3조: 55~72번 "
   ]
  },
  {
   "cell_type": "markdown",
   "metadata": {},
   "source": [
    "# Merge"
   ]
  },
  {
   "cell_type": "markdown",
   "metadata": {},
   "source": [
    "## Concat"
   ]
  },
  {
   "cell_type": "markdown",
   "metadata": {},
   "source": [
    "Pandas는 join/merge 와 같은 병합작업의 경우 'concat()' 을 통해<br>\n",
    "Series, DataFrame,Panel 객체를 index와 relational algebra과 결합할 수 있게해준다.\n"
   ]
  },
  {
   "cell_type": "markdown",
   "metadata": {},
   "source": [
    "Merging 섹션을 보자 [pandas.Panel — pandas 0.23.3 documentation](https://pandas.pydata.org/pandas-docs/stable/generated/pandas.Panel.html) "
   ]
  },
  {
   "cell_type": "markdown",
   "metadata": {},
   "source": [
    "'concat()'으로 Pandas 객체를 concatenating 하자 "
   ]
  },
  {
   "cell_type": "code",
   "execution_count": 13,
   "metadata": {},
   "outputs": [],
   "source": [
    "df = pd.DataFrame(np.random.randn(10, 4))"
   ]
  },
  {
   "cell_type": "code",
   "execution_count": 7,
   "metadata": {
    "scrolled": true
   },
   "outputs": [
    {
     "data": {
      "text/html": [
       "<div>\n",
       "<style scoped>\n",
       "    .dataframe tbody tr th:only-of-type {\n",
       "        vertical-align: middle;\n",
       "    }\n",
       "\n",
       "    .dataframe tbody tr th {\n",
       "        vertical-align: top;\n",
       "    }\n",
       "\n",
       "    .dataframe thead th {\n",
       "        text-align: right;\n",
       "    }\n",
       "</style>\n",
       "<table border=\"1\" class=\"dataframe\">\n",
       "  <thead>\n",
       "    <tr style=\"text-align: right;\">\n",
       "      <th></th>\n",
       "      <th>0</th>\n",
       "      <th>1</th>\n",
       "      <th>2</th>\n",
       "      <th>3</th>\n",
       "    </tr>\n",
       "  </thead>\n",
       "  <tbody>\n",
       "    <tr>\n",
       "      <th>0</th>\n",
       "      <td>-1.370113</td>\n",
       "      <td>1.306357</td>\n",
       "      <td>0.805064</td>\n",
       "      <td>-0.262886</td>\n",
       "    </tr>\n",
       "    <tr>\n",
       "      <th>1</th>\n",
       "      <td>0.059452</td>\n",
       "      <td>0.921803</td>\n",
       "      <td>-0.264351</td>\n",
       "      <td>-0.479659</td>\n",
       "    </tr>\n",
       "    <tr>\n",
       "      <th>2</th>\n",
       "      <td>-0.149725</td>\n",
       "      <td>0.429804</td>\n",
       "      <td>-1.730625</td>\n",
       "      <td>-0.585599</td>\n",
       "    </tr>\n",
       "    <tr>\n",
       "      <th>3</th>\n",
       "      <td>2.396598</td>\n",
       "      <td>-1.112323</td>\n",
       "      <td>0.831191</td>\n",
       "      <td>0.017524</td>\n",
       "    </tr>\n",
       "    <tr>\n",
       "      <th>4</th>\n",
       "      <td>-0.939851</td>\n",
       "      <td>0.398300</td>\n",
       "      <td>-1.503311</td>\n",
       "      <td>1.185740</td>\n",
       "    </tr>\n",
       "    <tr>\n",
       "      <th>5</th>\n",
       "      <td>-0.777850</td>\n",
       "      <td>-0.061262</td>\n",
       "      <td>-1.752889</td>\n",
       "      <td>1.381885</td>\n",
       "    </tr>\n",
       "    <tr>\n",
       "      <th>6</th>\n",
       "      <td>0.573826</td>\n",
       "      <td>0.704169</td>\n",
       "      <td>-1.114609</td>\n",
       "      <td>-0.916635</td>\n",
       "    </tr>\n",
       "    <tr>\n",
       "      <th>7</th>\n",
       "      <td>-0.311905</td>\n",
       "      <td>0.587430</td>\n",
       "      <td>0.069653</td>\n",
       "      <td>-0.247175</td>\n",
       "    </tr>\n",
       "    <tr>\n",
       "      <th>8</th>\n",
       "      <td>0.149070</td>\n",
       "      <td>-1.614154</td>\n",
       "      <td>-0.119656</td>\n",
       "      <td>0.534045</td>\n",
       "    </tr>\n",
       "    <tr>\n",
       "      <th>9</th>\n",
       "      <td>0.599226</td>\n",
       "      <td>-0.656358</td>\n",
       "      <td>-0.316240</td>\n",
       "      <td>0.335043</td>\n",
       "    </tr>\n",
       "  </tbody>\n",
       "</table>\n",
       "</div>"
      ],
      "text/plain": [
       "          0         1         2         3\n",
       "0 -1.370113  1.306357  0.805064 -0.262886\n",
       "1  0.059452  0.921803 -0.264351 -0.479659\n",
       "2 -0.149725  0.429804 -1.730625 -0.585599\n",
       "3  2.396598 -1.112323  0.831191  0.017524\n",
       "4 -0.939851  0.398300 -1.503311  1.185740\n",
       "5 -0.777850 -0.061262 -1.752889  1.381885\n",
       "6  0.573826  0.704169 -1.114609 -0.916635\n",
       "7 -0.311905  0.587430  0.069653 -0.247175\n",
       "8  0.149070 -1.614154 -0.119656  0.534045\n",
       "9  0.599226 -0.656358 -0.316240  0.335043"
      ]
     },
     "execution_count": 7,
     "metadata": {},
     "output_type": "execute_result"
    }
   ],
   "source": [
    "df"
   ]
  },
  {
   "cell_type": "code",
   "execution_count": 11,
   "metadata": {},
   "outputs": [],
   "source": [
    "pieces = [df[:3], df[3:7], df[7:]]"
   ]
  },
  {
   "cell_type": "code",
   "execution_count": 12,
   "metadata": {},
   "outputs": [
    {
     "data": {
      "text/html": [
       "<div>\n",
       "<style scoped>\n",
       "    .dataframe tbody tr th:only-of-type {\n",
       "        vertical-align: middle;\n",
       "    }\n",
       "\n",
       "    .dataframe tbody tr th {\n",
       "        vertical-align: top;\n",
       "    }\n",
       "\n",
       "    .dataframe thead th {\n",
       "        text-align: right;\n",
       "    }\n",
       "</style>\n",
       "<table border=\"1\" class=\"dataframe\">\n",
       "  <thead>\n",
       "    <tr style=\"text-align: right;\">\n",
       "      <th></th>\n",
       "      <th>0</th>\n",
       "      <th>1</th>\n",
       "      <th>2</th>\n",
       "      <th>3</th>\n",
       "    </tr>\n",
       "  </thead>\n",
       "  <tbody>\n",
       "    <tr>\n",
       "      <th>0</th>\n",
       "      <td>-1.370113</td>\n",
       "      <td>1.306357</td>\n",
       "      <td>0.805064</td>\n",
       "      <td>-0.262886</td>\n",
       "    </tr>\n",
       "    <tr>\n",
       "      <th>1</th>\n",
       "      <td>0.059452</td>\n",
       "      <td>0.921803</td>\n",
       "      <td>-0.264351</td>\n",
       "      <td>-0.479659</td>\n",
       "    </tr>\n",
       "    <tr>\n",
       "      <th>2</th>\n",
       "      <td>-0.149725</td>\n",
       "      <td>0.429804</td>\n",
       "      <td>-1.730625</td>\n",
       "      <td>-0.585599</td>\n",
       "    </tr>\n",
       "    <tr>\n",
       "      <th>3</th>\n",
       "      <td>2.396598</td>\n",
       "      <td>-1.112323</td>\n",
       "      <td>0.831191</td>\n",
       "      <td>0.017524</td>\n",
       "    </tr>\n",
       "    <tr>\n",
       "      <th>4</th>\n",
       "      <td>-0.939851</td>\n",
       "      <td>0.398300</td>\n",
       "      <td>-1.503311</td>\n",
       "      <td>1.185740</td>\n",
       "    </tr>\n",
       "    <tr>\n",
       "      <th>5</th>\n",
       "      <td>-0.777850</td>\n",
       "      <td>-0.061262</td>\n",
       "      <td>-1.752889</td>\n",
       "      <td>1.381885</td>\n",
       "    </tr>\n",
       "    <tr>\n",
       "      <th>6</th>\n",
       "      <td>0.573826</td>\n",
       "      <td>0.704169</td>\n",
       "      <td>-1.114609</td>\n",
       "      <td>-0.916635</td>\n",
       "    </tr>\n",
       "    <tr>\n",
       "      <th>7</th>\n",
       "      <td>-0.311905</td>\n",
       "      <td>0.587430</td>\n",
       "      <td>0.069653</td>\n",
       "      <td>-0.247175</td>\n",
       "    </tr>\n",
       "    <tr>\n",
       "      <th>8</th>\n",
       "      <td>0.149070</td>\n",
       "      <td>-1.614154</td>\n",
       "      <td>-0.119656</td>\n",
       "      <td>0.534045</td>\n",
       "    </tr>\n",
       "    <tr>\n",
       "      <th>9</th>\n",
       "      <td>0.599226</td>\n",
       "      <td>-0.656358</td>\n",
       "      <td>-0.316240</td>\n",
       "      <td>0.335043</td>\n",
       "    </tr>\n",
       "  </tbody>\n",
       "</table>\n",
       "</div>"
      ],
      "text/plain": [
       "          0         1         2         3\n",
       "0 -1.370113  1.306357  0.805064 -0.262886\n",
       "1  0.059452  0.921803 -0.264351 -0.479659\n",
       "2 -0.149725  0.429804 -1.730625 -0.585599\n",
       "3  2.396598 -1.112323  0.831191  0.017524\n",
       "4 -0.939851  0.398300 -1.503311  1.185740\n",
       "5 -0.777850 -0.061262 -1.752889  1.381885\n",
       "6  0.573826  0.704169 -1.114609 -0.916635\n",
       "7 -0.311905  0.587430  0.069653 -0.247175\n",
       "8  0.149070 -1.614154 -0.119656  0.534045\n",
       "9  0.599226 -0.656358 -0.316240  0.335043"
      ]
     },
     "execution_count": 12,
     "metadata": {},
     "output_type": "execute_result"
    }
   ],
   "source": [

    "## Join\n",
    "SQL 방식으로 merge합니다. [Database style joining](https://pandas.pydata.org/pandas-docs/stable/merging.html#merging-join) 섹션을 참고하세요.\n"
   ]
  },
   {
   "cell_type": "code",
   "execution_count": 5,
   "metadata": {
    "collapsed": true
   },
   "outputs": [],
   "source": [
    "left = pd.DataFrame({'key': ['foo', 'foo'], 'lval': [1, 2]})"
   ]
  },
  {
   "cell_type": "code",
   "execution_count": 5,
   "metadata": {},
   "outputs": [],
   "source": [
    "right = pd.DataFrame({'key': ['foo', 'foo'], 'rval': [4, 5]})"
   ]
  },
  {
   "cell_type": "markdown",
   "metadata": {},
   "source": [
    "이와 관련된 다른 예제는 아래와 같습니다."
   ]
  },
   {
   "cell_type": "code",
   "execution_count": 6,
   "metadata": {},
   "outputs": [
    {
     "data": {
      "text/html": [
       "<div>\n",
       "<style scoped>\n",
       "    .dataframe tbody tr th:only-of-type {\n",
       "        vertical-align: middle;\n",
       "    }\n",
       "\n",
       "    .dataframe tbody tr th {\n",
       "        vertical-align: top;\n",
       "    }\n",
       "\n",
       "    .dataframe thead th {\n",
       "        text-align: right;\n",
       "    }\n",
       "</style>\n",
       "<table border=\"1\" class=\"dataframe\">\n",
       "  <thead>\n",
       "    <tr style=\"text-align: right;\">\n",
       "      <th></th>\n",
       "      <th>key</th>\n",
       "      <th>lval</th>\n",
       "    </tr>\n",
       "  </thead>\n",
       "  <tbody>\n",
       "    <tr>\n",
       "      <th>0</th>\n",
       "      <td>foo</td>\n",
       "      <td>1</td>\n",
       "    </tr>\n",
       "    <tr>\n",
       "      <th>1</th>\n",
       "      <td>foo</td>\n",
       "      <td>2</td>\n",
       "    </tr>\n",
       "  </tbody>\n",
       "</table>\n",
       "</div>"
      ],
      "text/plain": [
       "   key  lval\n",
       "0  foo     1\n",
       "1  foo     2"
      ]
     },
     "execution_count": 6,
     "metadata": {},
     "output_type": "execute_result"
    }
   ],
   "source": [
    "left"

   ]
  },
  {
   "cell_type": "markdown",
   "metadata": {},
   "source": [
    "## Append"
   ]
  },
  {
   "cell_type": "markdown",
   "metadata": {},
   "source": [
    "데이터프레임에 하나, 혹은 여러 개의 행을 추가합니다. [Appending](https://pandas.pydata.org/pandas-docs/stable/merging.html#merging-concatenation) 섹션을 참조하시기 바랍니다."
   ]
  },
  {
   "cell_type": "code",
   "execution_count": 3,
   "metadata": {
    "collapsed": true
   },
   "outputs": [],
   "source": [
    "df = pd.DataFrame(np.random.randn(8, 4), columns=['A', 'B', 'C', 'D'])"
   ]
  },
  {
   "cell_type": "code",
   "execution_count": 4,
   "metadata": {},
   "outputs": [
    {
     "data": {
      "text/html": [
       "<div>\n",
       "<style scoped>\n",
       "    .dataframe tbody tr th:only-of-type {\n",
       "        vertical-align: middle;\n",
       "    }\n",
       "\n",
       "    .dataframe tbody tr th {\n",
       "        vertical-align: top;\n",
       "    }\n",
       "\n",
       "    .dataframe thead th {\n",
       "        text-align: right;\n",
       "    }\n",
       "</style>\n",
       "<table border=\"1\" class=\"dataframe\">\n",
       "  <thead>\n",
       "    <tr style=\"text-align: right;\">\n",
       "      <th></th>\n",
       "      <th>A</th>\n",
       "      <th>B</th>\n",
       "      <th>C</th>\n",
       "      <th>D</th>\n",
       "    </tr>\n",
       "  </thead>\n",
       "  <tbody>\n",
       "    <tr>\n",
       "      <th>0</th>\n",
       "      <td>1.585287</td>\n",
       "      <td>-1.185408</td>\n",
       "      <td>0.545935</td>\n",
       "      <td>0.969310</td>\n",
       "    </tr>\n",
       "    <tr>\n",
       "      <th>1</th>\n",
       "      <td>-1.417579</td>\n",
       "      <td>1.049525</td>\n",
       "      <td>-1.260063</td>\n",
       "      <td>-0.054941</td>\n",
       "    </tr>\n",
       "    <tr>\n",
       "      <th>2</th>\n",
       "      <td>-2.205915</td>\n",
       "      <td>0.267232</td>\n",
       "      <td>0.305988</td>\n",
       "      <td>-0.013593</td>\n",
       "    </tr>\n",
       "    <tr>\n",
       "      <th>3</th>\n",
       "      <td>1.797938</td>\n",
       "      <td>1.037938</td>\n",
       "      <td>-0.421357</td>\n",
       "      <td>0.449253</td>\n",
       "    </tr>\n",
       "    <tr>\n",
       "      <th>4</th>\n",
       "      <td>0.810524</td>\n",
       "      <td>-0.971801</td>\n",
       "      <td>0.445312</td>\n",
       "      <td>0.181111</td>\n",
       "    </tr>\n",
       "    <tr>\n",
       "      <th>5</th>\n",
       "      <td>0.315456</td>\n",
       "      <td>-0.575102</td>\n",
       "      <td>0.368868</td>\n",
       "      <td>-0.399334</td>\n",
       "    </tr>\n",
       "    <tr>\n",
       "      <th>6</th>\n",
       "      <td>0.629646</td>\n",
       "      <td>0.006975</td>\n",
       "      <td>-0.983729</td>\n",
       "      <td>0.077972</td>\n",
       "    </tr>\n",
       "    <tr>\n",
       "      <th>7</th>\n",
       "      <td>1.041567</td>\n",
       "      <td>2.249262</td>\n",
       "      <td>-1.214748</td>\n",
       "      <td>-1.204367</td>\n",
       "    </tr>\n",
       "  </tbody>\n",
       "</table>\n",
       "</div>"
      ],
      "text/plain": [
       "          A         B         C         D\n",
       "0  1.585287 -1.185408  0.545935  0.969310\n",
       "1 -1.417579  1.049525 -1.260063 -0.054941\n",
       "2 -2.205915  0.267232  0.305988 -0.013593\n",
       "3  1.797938  1.037938 -0.421357  0.449253\n",
       "4  0.810524 -0.971801  0.445312  0.181111\n",
       "5  0.315456 -0.575102  0.368868 -0.399334\n",
       "6  0.629646  0.006975 -0.983729  0.077972\n",
       "7  1.041567  2.249262 -1.214748 -1.204367"
      ]
     },
     "execution_count": 4,
     "metadata": {},
     "output_type": "execute_result"
    }
   ],
   "source": [
    "df"
   ]
  },
  {
   "cell_type": "code",
   "execution_count": 5,
   "metadata": {
    "collapsed": true
   },
   "outputs": [],
   "source": [
    "s = df.iloc[3]"
   ]
  },
  {
   "cell_type": "code",
   "execution_count": 6,
   "metadata": {},
   "outputs": [
    {
     "data": {
      "text/html": [
       "<div>\n",
       "<style scoped>\n",
       "    .dataframe tbody tr th:only-of-type {\n",
       "        vertical-align: middle;\n",
       "    }\n",
       "\n",
       "    .dataframe tbody tr th {\n",
       "        vertical-align: top;\n",
       "    }\n",
       "\n",
       "    .dataframe thead th {\n",
       "        text-align: right;\n",
       "    }\n",
       "</style>\n",
       "<table border=\"1\" class=\"dataframe\">\n",
       "  <thead>\n",
       "    <tr style=\"text-align: right;\">\n",
       "      <th></th>\n",
       "      <th>A</th>\n",
       "      <th>B</th>\n",
       "      <th>C</th>\n",
       "      <th>D</th>\n",
       "    </tr>\n",
       "  </thead>\n",
       "  <tbody>\n",
       "    <tr>\n",
       "      <th>0</th>\n",
       "      <td>1.585287</td>\n",
       "      <td>-1.185408</td>\n",
       "      <td>0.545935</td>\n",
       "      <td>0.969310</td>\n",
       "    </tr>\n",
       "    <tr>\n",
       "      <th>1</th>\n",
       "      <td>-1.417579</td>\n",
       "      <td>1.049525</td>\n",
       "      <td>-1.260063</td>\n",
       "      <td>-0.054941</td>\n",
       "    </tr>\n",
       "    <tr>\n",
       "      <th>2</th>\n",
       "      <td>-2.205915</td>\n",
       "      <td>0.267232</td>\n",
       "      <td>0.305988</td>\n",
       "      <td>-0.013593</td>\n",
       "    </tr>\n",
       "    <tr>\n",
       "      <th>3</th>\n",
       "      <td>1.797938</td>\n",
       "      <td>1.037938</td>\n",
       "      <td>-0.421357</td>\n",
       "      <td>0.449253</td>\n",
       "    </tr>\n",
       "    <tr>\n",
       "      <th>4</th>\n",
       "      <td>0.810524</td>\n",
       "      <td>-0.971801</td>\n",
       "      <td>0.445312</td>\n",
       "      <td>0.181111</td>\n",
       "    </tr>\n",
       "    <tr>\n",
       "      <th>5</th>\n",
       "      <td>0.315456</td>\n",
       "      <td>-0.575102</td>\n",
       "      <td>0.368868</td>\n",
       "      <td>-0.399334</td>\n",
       "    </tr>\n",
       "    <tr>\n",
       "      <th>6</th>\n",
       "      <td>0.629646</td>\n",
       "      <td>0.006975</td>\n",
       "      <td>-0.983729</td>\n",
       "      <td>0.077972</td>\n",
       "    </tr>\n",
       "    <tr>\n",
       "      <th>7</th>\n",
       "      <td>1.041567</td>\n",
       "      <td>2.249262</td>\n",
       "      <td>-1.214748</td>\n",
       "      <td>-1.204367</td>\n",
       "    </tr>\n",
       "    <tr>\n",
       "      <th>8</th>\n",
       "      <td>1.797938</td>\n",
       "      <td>1.037938</td>\n",
       "      <td>-0.421357</td>\n",
       "      <td>0.449253</td>\n",
       "    </tr>\n",
       "  </tbody>\n",
       "</table>\n",
       "</div>"
      ],
      "text/plain": [
       "          A         B         C         D\n",
       "0  1.585287 -1.185408  0.545935  0.969310\n",
       "1 -1.417579  1.049525 -1.260063 -0.054941\n",
       "2 -2.205915  0.267232  0.305988 -0.013593\n",
       "3  1.797938  1.037938 -0.421357  0.449253\n",
       "4  0.810524 -0.971801  0.445312  0.181111\n",
       "5  0.315456 -0.575102  0.368868 -0.399334\n",
       "6  0.629646  0.006975 -0.983729  0.077972\n",
       "7  1.041567  2.249262 -1.214748 -1.204367\n",
       "8  1.797938  1.037938 -0.421357  0.449253"
      ]
     },
     "execution_count": 6,
     "metadata": {},
     "output_type": "execute_result"
    }
   ],
   "source": [
    "df.append(s, ignore_index=True)"
   ]
  },
  {
   "cell_type": "markdown",
   "metadata": {},
   "source": [
    "# Grouping\n",
    "# Reshaping\n",
    "## Stack\n",
    "## Pivot Tables\n",
    "5조: 91~107번 "
   ]  
  },
  {
   "cell_type": "code",
   "execution_count": null,
   "metadata": {},
   "outputs": [],
   "source": []
  },
  {
   "cell_type": "markdown",
   "metadata": {},
   "source": [
    "# Time Series\n",
    "6조: 108~126 "
   ]
  },
  {
   "cell_type": "code",
   "execution_count": null,
   "metadata": {
    "collapsed": true
   },
   "outputs": [],
   "source": []
  },
  {
   "cell_type": "markdown",
   "metadata": {},
   "source": [
    "# Categoricals\n",
    "# Plotting\n",
    "7조: 127~140 "
   ]
  },
  {
   "cell_type": "code",
   "execution_count": null,
   "metadata": {
    "collapsed": true
   },
   "outputs": [],
   "source": []
  },
  {
   "cell_type": "markdown",
   "metadata": {},
   "source": [
    "# Getting Data In/Out\n",
    "## CSV\n",
    "## HDF5\n",
    "## Excel\n",
    "# Gotchas\n",
    "8조: 141~끝"
   ]
  },
  {
   "cell_type": "code",
   "execution_count": null,
   "metadata": {
    "collapsed": true
   },
   "outputs": [],
   "source": []
  }
 ],
 "metadata": {
  "kernelspec": {
   "display_name": "Python 3",
   "language": "python",
   "name": "python3"
  },
  "language_info": {
   "codemirror_mode": {
    "name": "ipython",
    "version": 3
   },
   "file_extension": ".py",
   "mimetype": "text/x-python",
   "name": "python",
   "nbconvert_exporter": "python",
   "pygments_lexer": "ipython3",
   "version": "3.6.5"
  }
 },
 "nbformat": 4,
 "nbformat_minor": 2
}
